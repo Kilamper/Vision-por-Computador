{
 "cells": [
  {
   "cell_type": "markdown",
   "metadata": {},
   "source": [
    "# Práctica 5 - Visión por Computador\n",
    "\n",
    "### Autores\n",
    "\n",
    "- Pablo Segura López\n",
    "- Kilian Armas Pérez"
   ]
  },
  {
   "cell_type": "markdown",
   "metadata": {},
   "source": [
    "## Tarea"
   ]
  },
  {
   "cell_type": "code",
   "execution_count": 1,
   "metadata": {},
   "outputs": [],
   "source": [
    "import cv2\n",
    "import time\n",
    "import os\n",
    "os.chdir(\"./Material P5\")\n",
    "import FaceNormalizationUtils as faceutils\n",
    "# My face detectors interface\n",
    "import FaceDetectors"
   ]
  },
  {
   "cell_type": "code",
   "execution_count": null,
   "metadata": {},
   "outputs": [],
   "source": [
    "normalizatorHS = faceutils.Normalization()\n",
    "\n",
    "# Face detectors interface\n",
    "FDet = FaceDetectors.FaceDetector()\n",
    "\n",
    "# Fonts\n",
    "font = cv2.FONT_HERSHEY_SIMPLEX\n",
    "\n",
    "# Webcam connection\n",
    "cap = cv2.VideoCapture(0)\n",
    "\n",
    "# Face detection and eye model setup (DNN + DLIB68)\n",
    "imodoF = 2\n",
    "imodoE = 1\n",
    "\n",
    "while True:\n",
    "    # Get frame\n",
    "    t = time.time()\n",
    "    ret, frame = cap.read()\n",
    "\n",
    "    if ret:\n",
    "        # For HS normalization\n",
    "        B, G, R = cv2.split(frame)\n",
    "\n",
    "        # Search face with a specific setup for face and eye detection\n",
    "        values = FDet.SingleFaceEyesDetection(frame, FDet.FaceDetectors[imodoF], FDet.EyeDetectors[imodoE])\n",
    "        if values is not None:\n",
    "            face, eyes, shape = values\n",
    "\n",
    "            #draws face container\n",
    "            [x, y , w, h] = face\n",
    "            if x > -1:\n",
    "                cv2.rectangle(frame, (x, y), (x + w, y + h), (255, 0, 0), 2)\n",
    "\n",
    "                # draws eyes and mask if available\n",
    "                [lex, ley, rex, rey] = eyes\n",
    "                if lex > -1:\n",
    "                    # Show detected facial elements\n",
    "                    if imodoF > 0:\n",
    "                        for (x, y) in shape:\n",
    "                            cv2.circle(frame, (x, y), 2, (255, 255, 255), -1)\n",
    "\n",
    "                    cv2.circle(frame, ((int)(lex), (int)(ley)), 4, (0, 0, 255), -1)\n",
    "                    cv2.circle(frame, ((int)(rex), (int)(rey)), 4, (0, 255, 0), -1)\n",
    "\n",
    "\n",
    "                    # Normalize and show\n",
    "                    # color channels\n",
    "                    normalizatorHS.normalize_gray_img(B, lex, ley, rex, rey, faceutils.Kind_wraping.HS)\n",
    "                    Bnorm = normalizatorHS.normf_image\n",
    "                    normalizatorHS.normalize_gray_img(G, lex, ley, rex, rey, faceutils.Kind_wraping.HS)\n",
    "                    Gnorm = normalizatorHS.normf_image\n",
    "                    normalizatorHS.normalize_gray_img(R, lex, ley, rex, rey, faceutils.Kind_wraping.HS)\n",
    "                    Rnorm = normalizatorHS.normf_image\n",
    "                    NormBGR = cv2.merge((Bnorm, Gnorm, Rnorm))\n",
    "                    cv2.imshow(\"Normalized\", NormBGR)\n",
    "\n",
    "        # Show resulting image\n",
    "        cv2.putText(frame, f\"Points: 0\", (10, 20), font, 0.5, (255, 255, 255), 2, cv2.LINE_AA)\n",
    "        cv2.imshow('Cam', frame)\n",
    "        \n",
    "        # Esc to finish\n",
    "        tec = cv2.waitKey(40)\n",
    "        if tec & tec == 27:  # Esc\n",
    "            break\n",
    "\n",
    "# Close windoews and release camera\n",
    "cap.release()\n",
    "cv2.destroyAllWindows()"
   ]
  }
 ],
 "metadata": {
  "kernelspec": {
   "display_name": "VC_P5",
   "language": "python",
   "name": "python3"
  },
  "language_info": {
   "codemirror_mode": {
    "name": "ipython",
    "version": 3
   },
   "file_extension": ".py",
   "mimetype": "text/x-python",
   "name": "python",
   "nbconvert_exporter": "python",
   "pygments_lexer": "ipython3",
   "version": "3.11.5"
  }
 },
 "nbformat": 4,
 "nbformat_minor": 2
}
